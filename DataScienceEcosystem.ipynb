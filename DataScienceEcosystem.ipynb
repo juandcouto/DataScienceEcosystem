{
 "cells": [
  {
   "cell_type": "markdown",
   "id": "93320133-0ba5-4cf2-aee1-81ed2a087fa0",
   "metadata": {},
   "source": [
    "# Data Science Tools and Ecosystem"
   ]
  },
  {
   "cell_type": "markdown",
   "id": "8442e837-eef5-42de-9d75-30ea1d064757",
   "metadata": {},
   "source": [
    "In this notebook, Data Science Tools and Ecosystem are summarized."
   ]
  },
  {
   "cell_type": "markdown",
   "id": "6728bc88-bd23-4912-8b07-0f4c39dfa9e4",
   "metadata": {},
   "source": [
    "Some of the popular languages that Data Scientists use are:\n",
    "1. Python\n",
    "2. R\n",
    "3. SQL\n",
    "4. C++\n",
    "5. Java"
   ]
  },
  {
   "cell_type": "markdown",
   "id": "3019c3f7-ee7f-4c10-bb0b-2169f93b961b",
   "metadata": {},
   "source": [
    "Some of the commonly used libraries used by Data Scientists include:\n",
    "\n",
    "1. Pandas\n",
    "2. NumPy\n",
    "3. Matplotlib\n",
    "4. Seaborn\n",
    "5. Scipy\n",
    "6. Plotly"
   ]
  },
  {
   "cell_type": "markdown",
   "id": "a751de8e-4989-404a-8deb-c26a66efc6d9",
   "metadata": {},
   "source": [
    "| Category         | Tool Name         |\n",
    "|------------------|-------------------|\n",
    "| IDE              | Jupyter Notebook  |\n",
    "| Data Management  | Apache Hadoop     |\n",
    "| Visualization    | Tableau           |"
   ]
  },
  {
   "cell_type": "markdown",
   "id": "f7efa719-87bd-4e4c-9ac5-595fd75a9631",
   "metadata": {},
   "source": [
    "### Below are examples of evaluating arithmetic expressions in Python."
   ]
  },
  {
   "cell_type": "code",
   "execution_count": 8,
   "id": "92848cc0-b7a0-4d2c-94ac-f143a1ca88f2",
   "metadata": {},
   "outputs": [
    {
     "data": {
      "text/plain": [
       "17"
      ]
     },
     "execution_count": 8,
     "metadata": {},
     "output_type": "execute_result"
    }
   ],
   "source": [
    "# This expression multiplies 3 and 4, then adds 5\n",
    "(3 * 4) + 5"
   ]
  },
  {
   "cell_type": "code",
   "execution_count": 9,
   "id": "76bce04e-5b4c-4be7-afbd-4d7b4859e232",
   "metadata": {},
   "outputs": [
    {
     "data": {
      "text/plain": [
       "3.3333333333333335"
      ]
     },
     "execution_count": 9,
     "metadata": {},
     "output_type": "execute_result"
    }
   ],
   "source": [
    "# Convert 200 minutes to hours\n",
    "minutes = 200\n",
    "hours = minutes / 60\n",
    "hours\n"
   ]
  },
  {
   "cell_type": "markdown",
   "id": "df882fd8-6c38-4b07-8caa-9605926f5774",
   "metadata": {},
   "source": [
    "### Objectives:\n",
    "- List popular languages for Data Science\n",
    "- List commonly used libraries in Data Science\n",
    "- Create tables using Markdown\n",
    "- Use arithmetic expressions in code\n",
    "- Convert minutes to hours using Python"
   ]
  },
  {
   "cell_type": "markdown",
   "id": "1573e188-3137-462f-9896-0656f4324fa9",
   "metadata": {},
   "source": [
    "## Author\n",
    "Juan Dcouto"
   ]
  },
  {
   "cell_type": "code",
   "execution_count": null,
   "id": "2a77d13e-c77b-4a9f-bc2d-53b0f71f0b4c",
   "metadata": {},
   "outputs": [],
   "source": []
  }
 ],
 "metadata": {
  "kernelspec": {
   "display_name": "Python 3 (ipykernel)",
   "language": "python",
   "name": "python3"
  },
  "language_info": {
   "codemirror_mode": {
    "name": "ipython",
    "version": 3
   },
   "file_extension": ".py",
   "mimetype": "text/x-python",
   "name": "python",
   "nbconvert_exporter": "python",
   "pygments_lexer": "ipython3",
   "version": "3.12.7"
  }
 },
 "nbformat": 4,
 "nbformat_minor": 5
}
